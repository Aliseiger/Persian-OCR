{
 "cells": [
  {
   "cell_type": "code",
   "execution_count": 90,
   "id": "28c7c7c9",
   "metadata": {},
   "outputs": [],
   "source": [
    "import cv2\n",
    "import os\n",
    "import numpy as np\n",
    "import tensorflow as tf\n",
    "from sklearn.model_selection import train_test_split\n",
    "from keras import Sequential \n",
    "from keras.layers import Dense , Conv2D , MaxPooling2D, Flatten\n",
    "import tkinter as tk\n",
    "from tkinter import filedialog\n",
    "from PIL import Image, ImageTk\n",
    "import matplotlib.pyplot as plt\n",
    "\n"
   ]
  },
  {
   "cell_type": "code",
   "execution_count": 91,
   "id": "5e98457f",
   "metadata": {},
   "outputs": [],
   "source": [
    "# مسیر اصلی فولدر\n",
    "main_folder = 'datasets'\n",
    "\n",
    "# یه لیست برای نگهداری عکس‌ها\n",
    "images = []\n",
    "labels = []\n",
    "\n",
    "# loop روی فولدرهای 0 تا 9\n",
    "for folder_name in os.listdir(main_folder):\n",
    "    folder_path = os.path.join(main_folder, folder_name)\n",
    "    \n",
    "    # loop روی عکس‌های داخل فولدر\n",
    "    for img in os.listdir(folder_path):\n",
    "        img_path = os.path.join(folder_path, img)\n",
    "\n",
    "        # خوندن عکس با cv2\n",
    "        img = cv2.imread(img_path)\n",
    "        img2 = cv2.cvtColor(img ,cv2.COLOR_BGR2GRAY)\n",
    "        img3 = cv2.resize(img2 ,(10,10))\n",
    "        images.append(img3)\n",
    "        labels.append(int(folder_name))  #  برچسبش اسم فولدر باشه (0 تا 9)\n",
    "\n",
    "X = np.array(images)\n",
    "Y = np.array(labels)"
   ]
  },
  {
   "cell_type": "code",
   "execution_count": 92,
   "id": "43444aac",
   "metadata": {},
   "outputs": [
    {
     "data": {
      "text/plain": [
       "(80000, 10, 10)"
      ]
     },
     "execution_count": 92,
     "metadata": {},
     "output_type": "execute_result"
    }
   ],
   "source": [
    "X.shape"
   ]
  },
  {
   "cell_type": "code",
   "execution_count": 93,
   "id": "81391f5e",
   "metadata": {},
   "outputs": [
    {
     "data": {
      "text/plain": [
       "(80000,)"
      ]
     },
     "execution_count": 93,
     "metadata": {},
     "output_type": "execute_result"
    }
   ],
   "source": [
    "Y.shape"
   ]
  },
  {
   "cell_type": "code",
   "execution_count": 94,
   "id": "be587e27",
   "metadata": {},
   "outputs": [
    {
     "data": {
      "text/plain": [
       "<matplotlib.image.AxesImage at 0x245523dc190>"
      ]
     },
     "execution_count": 94,
     "metadata": {},
     "output_type": "execute_result"
    },
    {
     "data": {
      "image/png": "[encoded data removed]",
      "text/plain": [
       "<Figure size 640x480 with 1 Axes>"
      ]
     },
     "metadata": {},
     "output_type": "display_data"
    }
   ],
   "source": [
    "plt.imshow(X[4])"
   ]
  },
  {
   "cell_type": "code",
   "execution_count": 95,
   "id": "c8373de3",
   "metadata": {},
   "outputs": [],
   "source": [
    "X = X /255"
   ]
  },
  {
   "cell_type": "code",
   "execution_count": 96,
   "id": "3bd2ec7a",
   "metadata": {},
   "outputs": [],
   "source": [
    "X_train , X_test , Y_train , Y_test = train_test_split(X ,Y ,test_size=0.2 , random_state=42 )"
   ]
  },
  {
   "cell_type": "code",
   "execution_count": 97,
   "id": "70fa85f4",
   "metadata": {},
   "outputs": [],
   "source": [
    "X_train= np.expand_dims(X_train , axis=3)\n",
    "X_test= np.expand_dims(X_test , axis=3)"
   ]
  },
  {
   "cell_type": "code",
   "execution_count": 98,
   "id": "28522d9a",
   "metadata": {},
   "outputs": [
    {
     "data": {
      "text/plain": [
       "(64000, 10, 10, 1)"
      ]
     },
     "execution_count": 98,
     "metadata": {},
     "output_type": "execute_result"
    }
   ],
   "source": [
    "X_train.shape"
   ]
  },
  {
   "cell_type": "code",
   "execution_count": 99,
   "id": "8addb2ce",
   "metadata": {},
   "outputs": [
    {
     "name": "stderr",
     "output_type": "stream",
     "text": [
      "c:\\Users\\Ali Mashaghi\\AppData\\Local\\Programs\\Python\\Python313\\Lib\\site-packages\\keras\\src\\layers\\convolutional\\base_conv.py:113: UserWarning: Do not pass an `input_shape`/`input_dim` argument to a layer. When using Sequential models, prefer using an `Input(shape)` object as the first layer in the model instead.\n",
      "  super().__init__(activity_regularizer=activity_regularizer, **kwargs)\n"
     ]
    }
   ],
   "source": [
    "model = Sequential()\n",
    "model.add(Conv2D(filters= 8,kernel_size=(3,3) ,input_shape=(10,10,1) ,activation='relu'))\n",
    "model.add(MaxPooling2D(2,2)) \n",
    "model.add(Flatten())\n",
    "model.add(Dense(32,activation='relu'))\n",
    "model.add(Dense(10))\n"
   ]
  },
  {
   "cell_type": "code",
   "execution_count": 100,
   "id": "b1789e37",
   "metadata": {},
   "outputs": [],
   "source": [
    "model.compile(optimizer='adam', loss=tf.keras.losses.SparseCategoricalCrossentropy(from_logits=True), metrics=['accuracy'])"
   ]
  },
  {
   "cell_type": "code",
   "execution_count": 101,
   "id": "aaecbea8",
   "metadata": {},
   "outputs": [
    {
     "name": "stdout",
     "output_type": "stream",
     "text": [
      "Epoch 1/10\n",
      "\u001b[1m2000/2000\u001b[0m \u001b[32m━━━━━━━━━━━━━━━━━━━━\u001b[0m\u001b[37m\u001b[0m \u001b[1m3s\u001b[0m 1ms/step - accuracy: 0.9125 - loss: 0.2961 - val_accuracy: 0.9637 - val_loss: 0.1230\n",
      "Epoch 2/10\n",
      "\u001b[1m2000/2000\u001b[0m \u001b[32m━━━━━━━━━━━━━━━━━━━━\u001b[0m\u001b[37m\u001b[0m \u001b[1m3s\u001b[0m 1ms/step - accuracy: 0.9714 - loss: 0.0962 - val_accuracy: 0.9733 - val_loss: 0.0858\n",
      "Epoch 3/10\n",
      "\u001b[1m2000/2000\u001b[0m \u001b[32m━━━━━━━━━━━━━━━━━━━━\u001b[0m\u001b[37m\u001b[0m \u001b[1m3s\u001b[0m 1ms/step - accuracy: 0.9766 - loss: 0.0765 - val_accuracy: 0.9768 - val_loss: 0.0748\n",
      "Epoch 4/10\n",
      "\u001b[1m2000/2000\u001b[0m \u001b[32m━━━━━━━━━━━━━━━━━━━━\u001b[0m\u001b[37m\u001b[0m \u001b[1m3s\u001b[0m 1ms/step - accuracy: 0.9798 - loss: 0.0656 - val_accuracy: 0.9792 - val_loss: 0.0663\n",
      "Epoch 5/10\n",
      "\u001b[1m2000/2000\u001b[0m \u001b[32m━━━━━━━━━━━━━━━━━━━━\u001b[0m\u001b[37m\u001b[0m \u001b[1m2s\u001b[0m 1ms/step - accuracy: 0.9814 - loss: 0.0596 - val_accuracy: 0.9794 - val_loss: 0.0663\n",
      "Epoch 6/10\n",
      "\u001b[1m2000/2000\u001b[0m \u001b[32m━━━━━━━━━━━━━━━━━━━━\u001b[0m\u001b[37m\u001b[0m \u001b[1m2s\u001b[0m 1ms/step - accuracy: 0.9828 - loss: 0.0543 - val_accuracy: 0.9805 - val_loss: 0.0605\n",
      "Epoch 7/10\n",
      "\u001b[1m2000/2000\u001b[0m \u001b[32m━━━━━━━━━━━━━━━━━━━━\u001b[0m\u001b[37m\u001b[0m \u001b[1m3s\u001b[0m 1ms/step - accuracy: 0.9843 - loss: 0.0500 - val_accuracy: 0.9821 - val_loss: 0.0551\n",
      "Epoch 8/10\n",
      "\u001b[1m2000/2000\u001b[0m \u001b[32m━━━━━━━━━━━━━━━━━━━━\u001b[0m\u001b[37m\u001b[0m \u001b[1m2s\u001b[0m 1ms/step - accuracy: 0.9851 - loss: 0.0465 - val_accuracy: 0.9794 - val_loss: 0.0612\n",
      "Epoch 9/10\n",
      "\u001b[1m2000/2000\u001b[0m \u001b[32m━━━━━━━━━━━━━━━━━━━━\u001b[0m\u001b[37m\u001b[0m \u001b[1m3s\u001b[0m 1ms/step - accuracy: 0.9859 - loss: 0.0437 - val_accuracy: 0.9821 - val_loss: 0.0547\n",
      "Epoch 10/10\n",
      "\u001b[1m2000/2000\u001b[0m \u001b[32m━━━━━━━━━━━━━━━━━━━━\u001b[0m\u001b[37m\u001b[0m \u001b[1m3s\u001b[0m 1ms/step - accuracy: 0.9863 - loss: 0.0418 - val_accuracy: 0.9834 - val_loss: 0.0485\n"
     ]
    },
    {
     "data": {
      "text/plain": [
       "<keras.src.callbacks.history.History at 0x245528f96d0>"
      ]
     },
     "execution_count": 101,
     "metadata": {},
     "output_type": "execute_result"
    }
   ],
   "source": [
    "model.fit(X_train, Y_train, epochs=10 , validation_data=(X_test,Y_test))"
   ]
  },
  {
   "cell_type": "code",
   "execution_count": 104,
   "id": "a27f16ec",
   "metadata": {},
   "outputs": [
    {
     "name": "stdout",
     "output_type": "stream",
     "text": [
      "\u001b[1m1/1\u001b[0m \u001b[32m━━━━━━━━━━━━━━━━━━━━\u001b[0m\u001b[37m\u001b[0m \u001b[1m0s\u001b[0m 23ms/step\n"
     ]
    }
   ],
   "source": [
    "# UI\n",
    "# پنجره اصلی\n",
    "root = tk.Tk()\n",
    "root.title(\"AI Image Tester 🧠\")\n",
    "root.geometry(\"300x400\")\n",
    "\n",
    "# ویجت‌ها\n",
    "panel = tk.Label(root)\n",
    "panel.pack(pady=10)\n",
    "\n",
    "result_label = tk.Label(root, text=\"\", font=(\"Arial\", 14))\n",
    "result_label.pack(pady=20)\n",
    "\n",
    "# مسیر عکس انتخاب‌شده\n",
    "img_path = None\n",
    "\n",
    "# توابع بعد از تعریف ویجت‌ها\n",
    "def predict_image(img_path):\n",
    "    img = cv2.imread(img_path)\n",
    "    img = cv2.cvtColor(img, cv2.COLOR_BGR2GRAY)\n",
    "    img = cv2.resize(img, (10, 10))  # سایز ورودی مدل خودت\n",
    "    img = img / 255.0\n",
    "    img = np.expand_dims(img, axis=(0, -1))  # شکل (1,10,10,1)\n",
    "    prediction = model.predict(img)\n",
    "    return np.argmax(prediction)\n",
    "\n",
    "def open_file():\n",
    "    global img_path, img_display\n",
    "    img_path = filedialog.askopenfilename(\n",
    "        title=\"یه عکس انتخاب کن\",\n",
    "        filetypes=[(\"Image files\", \"*.jpg *.jpeg *.png *.bmp\")]\n",
    "    )\n",
    "    if img_path:\n",
    "        img = Image.open(img_path)\n",
    "        img = img.resize((150, 150))\n",
    "        img_display = ImageTk.PhotoImage(img)\n",
    "        panel.config(image=img_display)\n",
    "        panel.image = img_display\n",
    "        result_label.config(text=\"\")\n",
    "\n",
    "def test_model():\n",
    "    if img_path:\n",
    "        pred = predict_image(img_path)\n",
    "        result_label.config(text=f\"👾 مدل گفت: {pred}\")\n",
    "    else:\n",
    "        result_label.config(text=\"اول یه عکس انتخاب کن 😅\")\n",
    "\n",
    "# دکمه‌ها\n",
    "btn_load = tk.Button(root, text=\"📂 انتخاب عکس\", command=open_file)\n",
    "btn_load.pack(pady=5)\n",
    "\n",
    "btn_test = tk.Button(root, text=\"🤖 پیش‌بینی\", command=test_model)\n",
    "btn_test.pack(pady=5)\n",
    "\n",
    "# اجرای برنامه\n",
    "root.mainloop()\n"
   ]
  }
 ],
 "metadata": {
  "kernelspec": {
   "display_name": "Python 3",
   "language": "python",
   "name": "python3"
  },
  "language_info": {
   "codemirror_mode": {
    "name": "ipython",
    "version": 3
   },
   "file_extension": ".py",
   "mimetype": "text/x-python",
   "name": "python",
   "nbconvert_exporter": "python",
   "pygments_lexer": "ipython3",
   "version": "3.13.7"
  }
 },
 "nbformat": 4,
 "nbformat_minor": 5
}
